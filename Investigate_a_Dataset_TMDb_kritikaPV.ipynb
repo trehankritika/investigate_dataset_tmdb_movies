{
 "cells": [
  {
   "cell_type": "markdown",
   "metadata": {},
   "source": [
    "\n",
    "# Project: Investigate a Dataset : TMDb Dataset\n",
    "\n",
    "## Table of Contents\n",
    "<ul>\n",
    "<li><a href=\"#intro\">Introduction</a></li>\n",
    "<li><a href=\"#wrangling\">Data Wrangling</a></li>\n",
    "<li><a href=\"#eda1\">Exploratory Data Analysis : Q1</a></li>\n",
    "<li><a href=\"#eda2\">Exploratory Data Analysis : Q2</a></li>\n",
    "<li><a href=\"#limitations\">Limitations</a></li>\n",
    "<li><a href=\"#conclusions\">Conclusions</a></li>\n",
    "</ul>\n",
    "\n",
    "<a id='intro'></a>\n",
    "## Introduction\n",
    "\n",
    "> The dataset selected is the TMDb dataset that contains the data on movies and ratings.\n",
    "\n",
    "> Trends to be explored here are:\n",
    "- Popularity over the years\n",
    "- Revenue over the years\n",
    "- Runtime over the years\n",
    "\n",
    "> Associations and Effects [over period spans] to be evaluated are:\n",
    "- Revenue vs Popularity\n",
    "- Revenue vs Vote Counts\n",
    "- Revenue vs Vote Averages\n",
    "\n",
    "Some questions to be answered are:\n",
    "- Over the decades, what are the typical runtimes, revenues and popularity values?\n",
    "- Spanning the time periods, is revenue proportional to popularity? \n",
    "- Do vote counts influence revenues? Does runtime affect revenue? \n",
    "\n",
    "> The investigations conducted here are exploratory and any associations will be tentative at best, as only visualization and basic correlations are attempted in this project. Any relation inferred will be used only as a pointer for conducting further detailed, statistically backed analyses. \n",
    "\n",
    "> The three variables investigated here are:\n",
    "- using single-variable (1d) explorations: Popularity, revenue, runtime over time\n",
    "- multiple-variable (2d) explorations: Revenue over time for the factors Popularity, Vote counts and Vote Averages."
   ]
  },
  {
   "cell_type": "markdown",
   "metadata": {},
   "source": [
    "### Resources\n",
    "Codes are based on Udacity DAND lessons, my own code from solving the assignments and exercises, including previous DAND projects as well as links [like StackOverflow] from the resources mentioned in DAND syllabus."
   ]
  },
  {
   "cell_type": "code",
   "execution_count": 2,
   "metadata": {
    "collapsed": true
   },
   "outputs": [],
   "source": [
    "# Use this cell to set up import statements for all of the packages that you\n",
    "#   plan to use.\n",
    "\n",
    "# Remember to include a 'magic word' so that your visualizations are plotted\n",
    "#   inline with the notebook. See this page for more:\n",
    "#   http://ipython.readthedocs.io/en/stable/interactive/magics.html\n",
    "\n",
    "#import statements for packages to be used\n",
    "import pandas as pd\n",
    "import csv # read and write csv files\n",
    "from datetime import datetime # operations to parse dates\n",
    "import matplotlib.pyplot as plt\n",
    "% matplotlib inline"
   ]
  },
  {
   "cell_type": "markdown",
   "metadata": {},
   "source": [
    "<a id='wrangling'></a>\n",
    "## Data Wrangling\n",
    "\n",
    "### General Properties\n",
    "**Observations**\n",
    "- Rows: 10866 \n",
    "- Columns: 21\n",
    "- Null values  present in variables: [as inspected in code below]\n",
    "> - imdb_id \n",
    "> - cast\n",
    "> - homepage\n",
    "> - director\n",
    "> - tagline\n",
    "> - keywords\n",
    "> - overview\n",
    "> - genres\n",
    "> - production_companies\n",
    "\n",
    "**Cleaning Steps Taken:**\n",
    "- Data is relatively clean. \n",
    "- One duplicate record is present and is deleted.\n",
    "- Of the different variables, imdb_id is significant to identify the records uniquely. Only 10 of 10865 are missing. Hence, we only drop the records with this value as missing. \n",
    "- Other values with missing values are not significant, hence, retained 'as-is'."
   ]
  },
  {
   "cell_type": "code",
   "execution_count": 3,
   "metadata": {},
   "outputs": [
    {
     "name": "stdout",
     "output_type": "stream",
     "text": [
      "<class 'pandas.core.frame.DataFrame'>\n",
      "RangeIndex: 10866 entries, 0 to 10865\n",
      "Data columns (total 21 columns):\n",
      "id                      10866 non-null int64\n",
      "imdb_id                 10856 non-null object\n",
      "popularity              10866 non-null float64\n",
      "budget                  10866 non-null int64\n",
      "revenue                 10866 non-null int64\n",
      "original_title          10866 non-null object\n",
      "cast                    10790 non-null object\n",
      "homepage                2936 non-null object\n",
      "director                10822 non-null object\n",
      "tagline                 8042 non-null object\n",
      "keywords                9373 non-null object\n",
      "overview                10862 non-null object\n",
      "runtime                 10866 non-null int64\n",
      "genres                  10843 non-null object\n",
      "production_companies    9836 non-null object\n",
      "release_date            10866 non-null object\n",
      "vote_count              10866 non-null int64\n",
      "vote_average            10866 non-null float64\n",
      "release_year            10866 non-null int64\n",
      "budget_adj              10866 non-null float64\n",
      "revenue_adj             10866 non-null float64\n",
      "dtypes: float64(4), int64(6), object(11)\n",
      "memory usage: 1.7+ MB\n"
     ]
    }
   ],
   "source": [
    "# Load your data and print out a few lines. Perform operations to inspect data\n",
    "#   types and look for instances of missing or possibly errant data.\n",
    "\n",
    "#loading the data form csv file to start analysis\n",
    "df = pd.read_csv('tmdb_movies.csv', encoding='ISO-8859-1')\n",
    "df.info()"
   ]
  },
  {
   "cell_type": "markdown",
   "metadata": {},
   "source": [
    "### DUPLICATES: \n",
    "Here, we check for duplicates. These would be redundant records for our investigation and if present, can be dropped from the dataset."
   ]
  },
  {
   "cell_type": "code",
   "execution_count": 4,
   "metadata": {},
   "outputs": [
    {
     "data": {
      "text/plain": [
       "1"
      ]
     },
     "execution_count": 4,
     "metadata": {},
     "output_type": "execute_result"
    }
   ],
   "source": [
    "# check number of duplicate records\n",
    "sum(df.duplicated())"
   ]
  },
  {
   "cell_type": "code",
   "execution_count": 41,
   "metadata": {
    "collapsed": true
   },
   "outputs": [],
   "source": [
    "# drop rows that are duplicates \n",
    "# save in dataset itself, so that data is devoid of duplicates \n",
    "df.drop_duplicates(inplace=True)"
   ]
  },
  {
   "cell_type": "code",
   "execution_count": 6,
   "metadata": {},
   "outputs": [
    {
     "name": "stdout",
     "output_type": "stream",
     "text": [
      "<class 'pandas.core.frame.DataFrame'>\n",
      "Int64Index: 10865 entries, 0 to 10865\n",
      "Data columns (total 21 columns):\n",
      "id                      10865 non-null int64\n",
      "imdb_id                 10855 non-null object\n",
      "popularity              10865 non-null float64\n",
      "budget                  10865 non-null int64\n",
      "revenue                 10865 non-null int64\n",
      "original_title          10865 non-null object\n",
      "cast                    10789 non-null object\n",
      "homepage                2936 non-null object\n",
      "director                10821 non-null object\n",
      "tagline                 8041 non-null object\n",
      "keywords                9372 non-null object\n",
      "overview                10861 non-null object\n",
      "runtime                 10865 non-null int64\n",
      "genres                  10842 non-null object\n",
      "production_companies    9835 non-null object\n",
      "release_date            10865 non-null object\n",
      "vote_count              10865 non-null int64\n",
      "vote_average            10865 non-null float64\n",
      "release_year            10865 non-null int64\n",
      "budget_adj              10865 non-null float64\n",
      "revenue_adj             10865 non-null float64\n",
      "dtypes: float64(4), int64(6), object(11)\n",
      "memory usage: 1.8+ MB\n"
     ]
    }
   ],
   "source": [
    "#inspect dataset to confirm \n",
    "df.info()"
   ]
  },
  {
   "cell_type": "markdown",
   "metadata": {},
   "source": [
    "### NULL Values:\n",
    "This step is to inspect if data is sufficient for initial exploration and research. Depending on the results, we also will have to decide on how best to tackle missing values, based on their relative proportion to complete data."
   ]
  },
  {
   "cell_type": "code",
   "execution_count": 48,
   "metadata": {},
   "outputs": [
    {
     "data": {
      "text/plain": [
       "id                         0\n",
       "imdb_id                    0\n",
       "popularity                 0\n",
       "budget                     0\n",
       "revenue                    0\n",
       "original_title             0\n",
       "cast                      76\n",
       "homepage                7921\n",
       "director                  40\n",
       "tagline                 2817\n",
       "keywords                1487\n",
       "overview                   3\n",
       "runtime                    0\n",
       "genres                    21\n",
       "production_companies    1025\n",
       "release_date               0\n",
       "vote_count                 0\n",
       "vote_average               0\n",
       "release_year               0\n",
       "budget_adj                 0\n",
       "revenue_adj                0\n",
       "dtype: int64"
      ]
     },
     "execution_count": 48,
     "metadata": {},
     "output_type": "execute_result"
    }
   ],
   "source": [
    "# check if any columns contain null values\n",
    "df.isnull().sum()"
   ]
  },
  {
   "cell_type": "markdown",
   "metadata": {},
   "source": [
    "### Data Cleaning (Dropping rows)"
   ]
  },
  {
   "cell_type": "markdown",
   "metadata": {},
   "source": [
    "- After viewing the structure of the TMDb dataset and deleting duplicate records, we perform cleaning steps in this second part. \n",
    "- We saw from the previous step that we have null values in certain columns. Of these, imdb_id is of relevance to us. The number of records with missing imdb_id values are only 10 out of 10865. Hence, we are removing rows with null values only in imdb_id column using dropna method. \n",
    "- The remaining columns containing missing values are not factors of interest in this initial exploration. The questions we have posed in our EDA consider factors having no missing values. So, we leave the remaining missing values 'as-is'."
   ]
  },
  {
   "cell_type": "code",
   "execution_count": 43,
   "metadata": {
    "scrolled": true
   },
   "outputs": [
    {
     "name": "stdout",
     "output_type": "stream",
     "text": [
      "<class 'pandas.core.frame.DataFrame'>\n",
      "Int64Index: 10855 entries, 0 to 10865\n",
      "Data columns (total 21 columns):\n",
      "id                      10855 non-null int64\n",
      "imdb_id                 10855 non-null object\n",
      "popularity              10855 non-null float64\n",
      "budget                  10855 non-null int64\n",
      "revenue                 10855 non-null int64\n",
      "original_title          10855 non-null object\n",
      "cast                    10779 non-null object\n",
      "homepage                2934 non-null object\n",
      "director                10815 non-null object\n",
      "tagline                 8038 non-null object\n",
      "keywords                9368 non-null object\n",
      "overview                10852 non-null object\n",
      "runtime                 10855 non-null int64\n",
      "genres                  10834 non-null object\n",
      "production_companies    9830 non-null object\n",
      "release_date            10855 non-null object\n",
      "vote_count              10855 non-null int64\n",
      "vote_average            10855 non-null float64\n",
      "release_year            10855 non-null int64\n",
      "budget_adj              10855 non-null float64\n",
      "revenue_adj             10855 non-null float64\n",
      "dtypes: float64(4), int64(6), object(11)\n",
      "memory usage: 1.8+ MB\n"
     ]
    }
   ],
   "source": [
    "#drop rows containing missing values in imdb_id column\n",
    "df.dropna(subset=['imdb_id'], inplace=True)  \n",
    "df.info()"
   ]
  },
  {
   "cell_type": "code",
   "execution_count": 44,
   "metadata": {},
   "outputs": [
    {
     "data": {
      "text/html": [
       "<div>\n",
       "<style>\n",
       "    .dataframe thead tr:only-child th {\n",
       "        text-align: right;\n",
       "    }\n",
       "\n",
       "    .dataframe thead th {\n",
       "        text-align: left;\n",
       "    }\n",
       "\n",
       "    .dataframe tbody tr th {\n",
       "        vertical-align: top;\n",
       "    }\n",
       "</style>\n",
       "<table border=\"1\" class=\"dataframe\">\n",
       "  <thead>\n",
       "    <tr style=\"text-align: right;\">\n",
       "      <th></th>\n",
       "      <th>id</th>\n",
       "      <th>imdb_id</th>\n",
       "      <th>popularity</th>\n",
       "      <th>budget</th>\n",
       "      <th>revenue</th>\n",
       "      <th>original_title</th>\n",
       "      <th>cast</th>\n",
       "      <th>homepage</th>\n",
       "      <th>director</th>\n",
       "      <th>tagline</th>\n",
       "      <th>...</th>\n",
       "      <th>overview</th>\n",
       "      <th>runtime</th>\n",
       "      <th>genres</th>\n",
       "      <th>production_companies</th>\n",
       "      <th>release_date</th>\n",
       "      <th>vote_count</th>\n",
       "      <th>vote_average</th>\n",
       "      <th>release_year</th>\n",
       "      <th>budget_adj</th>\n",
       "      <th>revenue_adj</th>\n",
       "    </tr>\n",
       "  </thead>\n",
       "  <tbody>\n",
       "    <tr>\n",
       "      <th>0</th>\n",
       "      <td>135397</td>\n",
       "      <td>tt0369610</td>\n",
       "      <td>32.985763</td>\n",
       "      <td>150000000</td>\n",
       "      <td>1513528810</td>\n",
       "      <td>Jurassic World</td>\n",
       "      <td>Chris Pratt|Bryce Dallas Howard|Irrfan Khan|Vi...</td>\n",
       "      <td>http://www.jurassicworld.com/</td>\n",
       "      <td>Colin Trevorrow</td>\n",
       "      <td>The park is open.</td>\n",
       "      <td>...</td>\n",
       "      <td>Twenty-two years after the events of Jurassic ...</td>\n",
       "      <td>124</td>\n",
       "      <td>Action|Adventure|Science Fiction|Thriller</td>\n",
       "      <td>Universal Studios|Amblin Entertainment|Legenda...</td>\n",
       "      <td>6/9/15</td>\n",
       "      <td>5562</td>\n",
       "      <td>6.5</td>\n",
       "      <td>2015</td>\n",
       "      <td>137999939.3</td>\n",
       "      <td>1.392446e+09</td>\n",
       "    </tr>\n",
       "    <tr>\n",
       "      <th>1</th>\n",
       "      <td>76341</td>\n",
       "      <td>tt1392190</td>\n",
       "      <td>28.419936</td>\n",
       "      <td>150000000</td>\n",
       "      <td>378436354</td>\n",
       "      <td>Mad Max: Fury Road</td>\n",
       "      <td>Tom Hardy|Charlize Theron|Hugh Keays-Byrne|Nic...</td>\n",
       "      <td>http://www.madmaxmovie.com/</td>\n",
       "      <td>George Miller</td>\n",
       "      <td>What a Lovely Day.</td>\n",
       "      <td>...</td>\n",
       "      <td>An apocalyptic story set in the furthest reach...</td>\n",
       "      <td>120</td>\n",
       "      <td>Action|Adventure|Science Fiction|Thriller</td>\n",
       "      <td>Village Roadshow Pictures|Kennedy Miller Produ...</td>\n",
       "      <td>5/13/15</td>\n",
       "      <td>6185</td>\n",
       "      <td>7.1</td>\n",
       "      <td>2015</td>\n",
       "      <td>137999939.3</td>\n",
       "      <td>3.481613e+08</td>\n",
       "    </tr>\n",
       "    <tr>\n",
       "      <th>2</th>\n",
       "      <td>262500</td>\n",
       "      <td>tt2908446</td>\n",
       "      <td>13.112507</td>\n",
       "      <td>110000000</td>\n",
       "      <td>295238201</td>\n",
       "      <td>Insurgent</td>\n",
       "      <td>Shailene Woodley|Theo James|Kate Winslet|Ansel...</td>\n",
       "      <td>http://www.thedivergentseries.movie/#insurgent</td>\n",
       "      <td>Robert Schwentke</td>\n",
       "      <td>One Choice Can Destroy You</td>\n",
       "      <td>...</td>\n",
       "      <td>Beatrice Prior must confront her inner demons ...</td>\n",
       "      <td>119</td>\n",
       "      <td>Adventure|Science Fiction|Thriller</td>\n",
       "      <td>Summit Entertainment|Mandeville Films|Red Wago...</td>\n",
       "      <td>3/18/15</td>\n",
       "      <td>2480</td>\n",
       "      <td>6.3</td>\n",
       "      <td>2015</td>\n",
       "      <td>101199955.5</td>\n",
       "      <td>2.716190e+08</td>\n",
       "    </tr>\n",
       "    <tr>\n",
       "      <th>3</th>\n",
       "      <td>140607</td>\n",
       "      <td>tt2488496</td>\n",
       "      <td>11.173104</td>\n",
       "      <td>200000000</td>\n",
       "      <td>2068178225</td>\n",
       "      <td>Star Wars: The Force Awakens</td>\n",
       "      <td>Harrison Ford|Mark Hamill|Carrie Fisher|Adam D...</td>\n",
       "      <td>http://www.starwars.com/films/star-wars-episod...</td>\n",
       "      <td>J.J. Abrams</td>\n",
       "      <td>Every generation has a story.</td>\n",
       "      <td>...</td>\n",
       "      <td>Thirty years after defeating the Galactic Empi...</td>\n",
       "      <td>136</td>\n",
       "      <td>Action|Adventure|Science Fiction|Fantasy</td>\n",
       "      <td>Lucasfilm|Truenorth Productions|Bad Robot</td>\n",
       "      <td>12/15/15</td>\n",
       "      <td>5292</td>\n",
       "      <td>7.5</td>\n",
       "      <td>2015</td>\n",
       "      <td>183999919.0</td>\n",
       "      <td>1.902723e+09</td>\n",
       "    </tr>\n",
       "    <tr>\n",
       "      <th>4</th>\n",
       "      <td>168259</td>\n",
       "      <td>tt2820852</td>\n",
       "      <td>9.335014</td>\n",
       "      <td>190000000</td>\n",
       "      <td>1506249360</td>\n",
       "      <td>Furious 7</td>\n",
       "      <td>Vin Diesel|Paul Walker|Jason Statham|Michelle ...</td>\n",
       "      <td>http://www.furious7.com/</td>\n",
       "      <td>James Wan</td>\n",
       "      <td>Vengeance Hits Home</td>\n",
       "      <td>...</td>\n",
       "      <td>Deckard Shaw seeks revenge against Dominic Tor...</td>\n",
       "      <td>137</td>\n",
       "      <td>Action|Crime|Thriller</td>\n",
       "      <td>Universal Pictures|Original Film|Media Rights ...</td>\n",
       "      <td>4/1/15</td>\n",
       "      <td>2947</td>\n",
       "      <td>7.3</td>\n",
       "      <td>2015</td>\n",
       "      <td>174799923.1</td>\n",
       "      <td>1.385749e+09</td>\n",
       "    </tr>\n",
       "  </tbody>\n",
       "</table>\n",
       "<p>5 rows × 21 columns</p>\n",
       "</div>"
      ],
      "text/plain": [
       "       id    imdb_id  popularity     budget     revenue  \\\n",
       "0  135397  tt0369610   32.985763  150000000  1513528810   \n",
       "1   76341  tt1392190   28.419936  150000000   378436354   \n",
       "2  262500  tt2908446   13.112507  110000000   295238201   \n",
       "3  140607  tt2488496   11.173104  200000000  2068178225   \n",
       "4  168259  tt2820852    9.335014  190000000  1506249360   \n",
       "\n",
       "                 original_title  \\\n",
       "0                Jurassic World   \n",
       "1            Mad Max: Fury Road   \n",
       "2                     Insurgent   \n",
       "3  Star Wars: The Force Awakens   \n",
       "4                     Furious 7   \n",
       "\n",
       "                                                cast  \\\n",
       "0  Chris Pratt|Bryce Dallas Howard|Irrfan Khan|Vi...   \n",
       "1  Tom Hardy|Charlize Theron|Hugh Keays-Byrne|Nic...   \n",
       "2  Shailene Woodley|Theo James|Kate Winslet|Ansel...   \n",
       "3  Harrison Ford|Mark Hamill|Carrie Fisher|Adam D...   \n",
       "4  Vin Diesel|Paul Walker|Jason Statham|Michelle ...   \n",
       "\n",
       "                                            homepage          director  \\\n",
       "0                      http://www.jurassicworld.com/   Colin Trevorrow   \n",
       "1                        http://www.madmaxmovie.com/     George Miller   \n",
       "2     http://www.thedivergentseries.movie/#insurgent  Robert Schwentke   \n",
       "3  http://www.starwars.com/films/star-wars-episod...       J.J. Abrams   \n",
       "4                           http://www.furious7.com/         James Wan   \n",
       "\n",
       "                         tagline      ...       \\\n",
       "0              The park is open.      ...        \n",
       "1             What a Lovely Day.      ...        \n",
       "2     One Choice Can Destroy You      ...        \n",
       "3  Every generation has a story.      ...        \n",
       "4            Vengeance Hits Home      ...        \n",
       "\n",
       "                                            overview runtime  \\\n",
       "0  Twenty-two years after the events of Jurassic ...     124   \n",
       "1  An apocalyptic story set in the furthest reach...     120   \n",
       "2  Beatrice Prior must confront her inner demons ...     119   \n",
       "3  Thirty years after defeating the Galactic Empi...     136   \n",
       "4  Deckard Shaw seeks revenge against Dominic Tor...     137   \n",
       "\n",
       "                                      genres  \\\n",
       "0  Action|Adventure|Science Fiction|Thriller   \n",
       "1  Action|Adventure|Science Fiction|Thriller   \n",
       "2         Adventure|Science Fiction|Thriller   \n",
       "3   Action|Adventure|Science Fiction|Fantasy   \n",
       "4                      Action|Crime|Thriller   \n",
       "\n",
       "                                production_companies release_date vote_count  \\\n",
       "0  Universal Studios|Amblin Entertainment|Legenda...       6/9/15       5562   \n",
       "1  Village Roadshow Pictures|Kennedy Miller Produ...      5/13/15       6185   \n",
       "2  Summit Entertainment|Mandeville Films|Red Wago...      3/18/15       2480   \n",
       "3          Lucasfilm|Truenorth Productions|Bad Robot     12/15/15       5292   \n",
       "4  Universal Pictures|Original Film|Media Rights ...       4/1/15       2947   \n",
       "\n",
       "   vote_average  release_year   budget_adj   revenue_adj  \n",
       "0           6.5          2015  137999939.3  1.392446e+09  \n",
       "1           7.1          2015  137999939.3  3.481613e+08  \n",
       "2           6.3          2015  101199955.5  2.716190e+08  \n",
       "3           7.5          2015  183999919.0  1.902723e+09  \n",
       "4           7.3          2015  174799923.1  1.385749e+09  \n",
       "\n",
       "[5 rows x 21 columns]"
      ]
     },
     "execution_count": 44,
     "metadata": {},
     "output_type": "execute_result"
    }
   ],
   "source": [
    "#check dataset \n",
    "df.head()"
   ]
  },
  {
   "cell_type": "code",
   "execution_count": 9,
   "metadata": {
    "collapsed": true
   },
   "outputs": [],
   "source": [
    "# save new clean dataset which contains no duplicates or records with missing values in of interest.\n",
    "# we will use this dataset in next sections\n",
    "df.to_csv('data_imdb.csv', index=False)"
   ]
  },
  {
   "cell_type": "markdown",
   "metadata": {},
   "source": [
    "<a id='eda1'></a>\n",
    "## Exploratory Data Analysis\n",
    "\n",
    "### Research Question 1 \n",
    "##### How are runtimes, popularity and revenues trending over time?\n",
    "- For this analysis, we first group our data based on years, using the variable 'release_year'.\n",
    "- Then we use in-built functions and histograms to visualize the answers. \n",
    "- The reason we use histograms is that we want to note the typical values of variables. Histograms display the counts of variable under consideration and thus, are ideal for our exploration.\n",
    "- For convenience of reading, observations about each variable is given separately. \n",
    "<ul>\n",
    "<li><a href=\"#runtime\">Runtime</a></li>\n",
    "<li><a href=\"#popularity\">Popularity</a></li>\n",
    "<li><a href=\"#revenue\">Revenue</a></li>\n",
    "</ul>"
   ]
  },
  {
   "cell_type": "code",
   "execution_count": 11,
   "metadata": {},
   "outputs": [
    {
     "name": "stdout",
     "output_type": "stream",
     "text": [
      "<class 'pandas.core.frame.DataFrame'>\n",
      "RangeIndex: 10855 entries, 0 to 10854\n",
      "Data columns (total 21 columns):\n",
      "id                      10855 non-null int64\n",
      "imdb_id                 10855 non-null object\n",
      "popularity              10855 non-null float64\n",
      "budget                  10855 non-null int64\n",
      "revenue                 10855 non-null int64\n",
      "original_title          10855 non-null object\n",
      "cast                    10779 non-null object\n",
      "homepage                2934 non-null object\n",
      "director                10815 non-null object\n",
      "tagline                 8038 non-null object\n",
      "keywords                9368 non-null object\n",
      "overview                10852 non-null object\n",
      "runtime                 10855 non-null int64\n",
      "genres                  10834 non-null object\n",
      "production_companies    9830 non-null object\n",
      "release_date            10855 non-null object\n",
      "vote_count              10855 non-null int64\n",
      "vote_average            10855 non-null float64\n",
      "release_year            10855 non-null int64\n",
      "budget_adj              10855 non-null float64\n",
      "revenue_adj             10855 non-null float64\n",
      "dtypes: float64(4), int64(6), object(11)\n",
      "memory usage: 1.7+ MB\n"
     ]
    }
   ],
   "source": [
    "# Importing data from newly cleaned dataset\n",
    "df_imdb = pd.read_csv('data_imdb.csv')\n",
    "df_imdb.info()"
   ]
  },
  {
   "cell_type": "markdown",
   "metadata": {},
   "source": [
    "- In this section, we want to explore trends over time. \n",
    "- So, we are using *group by* function to collect all the movies data based on release years\n",
    "- Thus, all the records pertaining to each year will be clubbed together. \n",
    "- Our variables of interest are runtimes, revenue, popularity and are all numeric.\n",
    "- Hence, we can take the mean values for each group under each year using the mean function."
   ]
  },
  {
   "cell_type": "code",
   "execution_count": 12,
   "metadata": {},
   "outputs": [],
   "source": [
    "#group the input data by release_year variable and compute mean values for the numeric columns [our values of interest]\n",
    "df_new = df_imdb.groupby('release_year').mean()"
   ]
  },
  {
   "cell_type": "code",
   "execution_count": 47,
   "metadata": {},
   "outputs": [
    {
     "data": {
      "image/png": "[encoded data removed]",
      "text/plain": [
       "<matplotlib.figure.Figure at 0x119166cc0>"
      ]
     },
     "metadata": {},
     "output_type": "display_data"
    }
   ],
   "source": [
    "#Initial exploration to see possible trends visually\n",
    "df_new.hist(figsize=(10,10));"
   ]
  },
  {
   "cell_type": "markdown",
   "metadata": {},
   "source": [
    "<a id='runtime'></a>\n",
    "### Runtime:\n",
    "- We wish to determine if over the years, there is popular movie running duration\n",
    "- Accordingly, we use a histogram to observe the counts of movie runtimes from our new dataset\n",
    "- Maximum counts will reflect the duration that most movies run"
   ]
  },
  {
   "cell_type": "code",
   "execution_count": 17,
   "metadata": {},
   "outputs": [
    {
     "data": {
      "image/png": "[encoded data removed]",
      "text/plain": [
       "<matplotlib.figure.Figure at 0x1190e6390>"
      ]
     },
     "metadata": {},
     "output_type": "display_data"
    }
   ],
   "source": [
    "\n",
    "df_new['runtime'].hist(bins=30)\n",
    "plt.xlabel('Runtime')\n",
    "plt.ylabel('Counts')\n",
    "plt.title('Runtime Over the Years');"
   ]
  },
  {
   "cell_type": "code",
   "execution_count": 21,
   "metadata": {},
   "outputs": [
    {
     "data": {
      "text/plain": [
       "count     56.000000\n",
       "mean     105.714644\n",
       "std        5.508458\n",
       "min       96.179331\n",
       "25%      101.910776\n",
       "50%      105.678699\n",
       "75%      107.593247\n",
       "max      124.343750\n",
       "Name: runtime, dtype: float64"
      ]
     },
     "execution_count": 21,
     "metadata": {},
     "output_type": "execute_result"
    }
   ],
   "source": [
    "# double check the values via describe function\n",
    "# this statistic is used to answer our question mathematically\n",
    "df_new['runtime'].describe() "
   ]
  },
  {
   "cell_type": "markdown",
   "metadata": {},
   "source": [
    "### Observations about Runtimes:\n",
    "- As seen in the plots and functions above, popular runtimes over the years are between 106 and 107 minutes.\n",
    "- Maximum movies fell in the 105-107 range.\n",
    "- The distribution is right skewed."
   ]
  },
  {
   "cell_type": "markdown",
   "metadata": {},
   "source": [
    "<a id='popularity'></a>\n",
    "\n",
    "### Popularity:\n",
    "- We wish to determine if over the years, what is the likely rating a movie will receive\n",
    "- Accordingly, we use a histogram to observe the counts of popularity from our new dataset\n",
    "- Maximum counts will reflect the typical popularity rating of movies"
   ]
  },
  {
   "cell_type": "code",
   "execution_count": 23,
   "metadata": {},
   "outputs": [
    {
     "data": {
      "image/png": "[encoded data removed]",
      "text/plain": [
       "<matplotlib.figure.Figure at 0x11908e4e0>"
      ]
     },
     "metadata": {},
     "output_type": "display_data"
    }
   ],
   "source": [
    "#Exploring popularity variable over the years to determine typical ratings by audiences\n",
    "df_new['popularity'].hist(bins=36)\n",
    "plt.xlabel('Popularity')\n",
    "plt.ylabel('Counts')\n",
    "plt.title('Popularity Over the Years');"
   ]
  },
  {
   "cell_type": "code",
   "execution_count": 32,
   "metadata": {},
   "outputs": [
    {
     "data": {
      "text/plain": [
       "count    56.000000\n",
       "mean      0.559693\n",
       "std       0.128434\n",
       "min       0.304112\n",
       "25%       0.469625\n",
       "50%       0.546928\n",
       "75%       0.626934\n",
       "max       1.032126\n",
       "Name: popularity, dtype: float64"
      ]
     },
     "execution_count": 32,
     "metadata": {},
     "output_type": "execute_result"
    }
   ],
   "source": [
    "# We wish to determine if over the years, there is typical popularity rating\n",
    "# We use the function describe to double check the numerical values seen in above plot\n",
    "\n",
    "df_new['popularity'].describe()"
   ]
  },
  {
   "cell_type": "markdown",
   "metadata": {},
   "source": [
    "### Observations about Popularity Ratings:\n",
    "- As evident from histogram and quartile percentages, maximum ratings received fall in the 0.44 to 0.62 ranges. \n",
    "- The distribution is skewed to right.\n",
    "- It is observed that no values lie in different ranges like 0.34-0.4, 0.64-0.66, 0.73-0.88, etc. This needs further scrutiny."
   ]
  },
  {
   "cell_type": "markdown",
   "metadata": {},
   "source": [
    "<a id='revenue'></a>\n",
    "\n",
    "### Revenue:\n",
    "- We wish to determine if over the years, what is the likely revenue a movie will generate\n",
    "- Accordingly, we use a histogram to observe the counts of revenues from our dataset\n",
    "- Maximum counts will reflect the typical revenue earned by movies"
   ]
  },
  {
   "cell_type": "code",
   "execution_count": 30,
   "metadata": {},
   "outputs": [
    {
     "data": {
      "image/png": "[encoded data removed]",
      "text/plain": [
       "<matplotlib.figure.Figure at 0x1106e2a58>"
      ]
     },
     "metadata": {},
     "output_type": "display_data"
    }
   ],
   "source": [
    "#Exploring revenue variable over the years to determine typical revenues grossed by the movies\n",
    "df_new['revenue'].hist(bins=24)\n",
    "plt.xlabel('Revenue')\n",
    "plt.ylabel('Counts')\n",
    "plt.title('Revenue Over the Years');"
   ]
  },
  {
   "cell_type": "code",
   "execution_count": 33,
   "metadata": {},
   "outputs": [
    {
     "data": {
      "text/plain": [
       "count    5.600000e+01\n",
       "mean     3.076766e+07\n",
       "std      1.574209e+07\n",
       "min      1.842102e+06\n",
       "25%      1.815642e+07\n",
       "50%      3.257984e+07\n",
       "75%      4.293171e+07\n",
       "max      5.549569e+07\n",
       "Name: revenue, dtype: float64"
      ]
     },
     "execution_count": 33,
     "metadata": {},
     "output_type": "execute_result"
    }
   ],
   "source": [
    "# We wish to determine if over the years, there is typical revenue received\n",
    "# We use the function describe to double check the numerical values seen in above plot\n",
    "\n",
    "df_new['revenue'].describe() "
   ]
  },
  {
   "cell_type": "markdown",
   "metadata": {
    "collapsed": true
   },
   "source": [
    "### Observations of Revenues:\n",
    "From the plots and histogram, we can see that:\n",
    "- Distribution is left skewed.\n",
    "- Revenues vary widely.\n",
    "- Most movie revenues fall in the 3.7e+07 to 4.8e+07 ranges. `"
   ]
  },
  {
   "cell_type": "markdown",
   "metadata": {
    "collapsed": true
   },
   "source": [
    "<a id='eda2'></a>\n",
    "\n",
    "## Exploratory Data Analysis\n",
    "\n",
    "### Research Question 2\n",
    "#### What variables are associated with the revenues of movies spanning the years? If so, how?\n",
    "Steps:\n",
    "- To answer this question,we view the correlation of variables from our dataset grouped over the years.\n",
    "- In the earlier visualizations, we only viewed one variable after grouping over years.\n",
    "- Here, we visualize the relations between two variables using scatter plots to view the associations [if any]. \n",
    "- We will use scatterplots to visualize as all the values are numeric.\n",
    "- Below are observations on :\n",
    "<ul>\n",
    "<li><a href=\"#rev_pop\">Revenue vs Popularity</a></li>\n",
    "<li><a href=\"#rev_vc\">Revenue vs Vote Counts</a></li>\n",
    "<li><a href=\"#rev_va\">Revenue vs Vote Averages</a></li>\n",
    "</ul>\n",
    "\n"
   ]
  },
  {
   "cell_type": "code",
   "execution_count": 45,
   "metadata": {},
   "outputs": [
    {
     "data": {
      "text/html": [
       "<div>\n",
       "<style>\n",
       "    .dataframe thead tr:only-child th {\n",
       "        text-align: right;\n",
       "    }\n",
       "\n",
       "    .dataframe thead th {\n",
       "        text-align: left;\n",
       "    }\n",
       "\n",
       "    .dataframe tbody tr th {\n",
       "        vertical-align: top;\n",
       "    }\n",
       "</style>\n",
       "<table border=\"1\" class=\"dataframe\">\n",
       "  <thead>\n",
       "    <tr style=\"text-align: right;\">\n",
       "      <th></th>\n",
       "      <th>id</th>\n",
       "      <th>popularity</th>\n",
       "      <th>budget</th>\n",
       "      <th>revenue</th>\n",
       "      <th>runtime</th>\n",
       "      <th>vote_count</th>\n",
       "      <th>vote_average</th>\n",
       "      <th>budget_adj</th>\n",
       "      <th>revenue_adj</th>\n",
       "    </tr>\n",
       "  </thead>\n",
       "  <tbody>\n",
       "    <tr>\n",
       "      <th>id</th>\n",
       "      <td>1.000000</td>\n",
       "      <td>0.612610</td>\n",
       "      <td>0.100292</td>\n",
       "      <td>0.152558</td>\n",
       "      <td>-0.441775</td>\n",
       "      <td>0.539964</td>\n",
       "      <td>-0.297719</td>\n",
       "      <td>-0.148336</td>\n",
       "      <td>-0.299723</td>\n",
       "    </tr>\n",
       "    <tr>\n",
       "      <th>popularity</th>\n",
       "      <td>0.612610</td>\n",
       "      <td>1.000000</td>\n",
       "      <td>0.668215</td>\n",
       "      <td>0.759156</td>\n",
       "      <td>-0.488974</td>\n",
       "      <td>0.849314</td>\n",
       "      <td>-0.574979</td>\n",
       "      <td>0.458952</td>\n",
       "      <td>-0.100506</td>\n",
       "    </tr>\n",
       "    <tr>\n",
       "      <th>budget</th>\n",
       "      <td>0.100292</td>\n",
       "      <td>0.668215</td>\n",
       "      <td>1.000000</td>\n",
       "      <td>0.906124</td>\n",
       "      <td>-0.401485</td>\n",
       "      <td>0.782026</td>\n",
       "      <td>-0.731797</td>\n",
       "      <td>0.891925</td>\n",
       "      <td>-0.158415</td>\n",
       "    </tr>\n",
       "    <tr>\n",
       "      <th>revenue</th>\n",
       "      <td>0.152558</td>\n",
       "      <td>0.759156</td>\n",
       "      <td>0.906124</td>\n",
       "      <td>1.000000</td>\n",
       "      <td>-0.466239</td>\n",
       "      <td>0.809243</td>\n",
       "      <td>-0.706442</td>\n",
       "      <td>0.767164</td>\n",
       "      <td>0.074952</td>\n",
       "    </tr>\n",
       "    <tr>\n",
       "      <th>runtime</th>\n",
       "      <td>-0.441775</td>\n",
       "      <td>-0.488974</td>\n",
       "      <td>-0.401485</td>\n",
       "      <td>-0.466239</td>\n",
       "      <td>1.000000</td>\n",
       "      <td>-0.612715</td>\n",
       "      <td>0.524770</td>\n",
       "      <td>-0.073168</td>\n",
       "      <td>0.300077</td>\n",
       "    </tr>\n",
       "    <tr>\n",
       "      <th>vote_count</th>\n",
       "      <td>0.539964</td>\n",
       "      <td>0.849314</td>\n",
       "      <td>0.782026</td>\n",
       "      <td>0.809243</td>\n",
       "      <td>-0.612715</td>\n",
       "      <td>1.000000</td>\n",
       "      <td>-0.658819</td>\n",
       "      <td>0.505434</td>\n",
       "      <td>-0.215568</td>\n",
       "    </tr>\n",
       "    <tr>\n",
       "      <th>vote_average</th>\n",
       "      <td>-0.297719</td>\n",
       "      <td>-0.574979</td>\n",
       "      <td>-0.731797</td>\n",
       "      <td>-0.706442</td>\n",
       "      <td>0.524770</td>\n",
       "      <td>-0.658819</td>\n",
       "      <td>1.000000</td>\n",
       "      <td>-0.557569</td>\n",
       "      <td>0.377204</td>\n",
       "    </tr>\n",
       "    <tr>\n",
       "      <th>budget_adj</th>\n",
       "      <td>-0.148336</td>\n",
       "      <td>0.458952</td>\n",
       "      <td>0.891925</td>\n",
       "      <td>0.767164</td>\n",
       "      <td>-0.073168</td>\n",
       "      <td>0.505434</td>\n",
       "      <td>-0.557569</td>\n",
       "      <td>1.000000</td>\n",
       "      <td>0.050086</td>\n",
       "    </tr>\n",
       "    <tr>\n",
       "      <th>revenue_adj</th>\n",
       "      <td>-0.299723</td>\n",
       "      <td>-0.100506</td>\n",
       "      <td>-0.158415</td>\n",
       "      <td>0.074952</td>\n",
       "      <td>0.300077</td>\n",
       "      <td>-0.215568</td>\n",
       "      <td>0.377204</td>\n",
       "      <td>0.050086</td>\n",
       "      <td>1.000000</td>\n",
       "    </tr>\n",
       "  </tbody>\n",
       "</table>\n",
       "</div>"
      ],
      "text/plain": [
       "                    id  popularity    budget   revenue   runtime  vote_count  \\\n",
       "id            1.000000    0.612610  0.100292  0.152558 -0.441775    0.539964   \n",
       "popularity    0.612610    1.000000  0.668215  0.759156 -0.488974    0.849314   \n",
       "budget        0.100292    0.668215  1.000000  0.906124 -0.401485    0.782026   \n",
       "revenue       0.152558    0.759156  0.906124  1.000000 -0.466239    0.809243   \n",
       "runtime      -0.441775   -0.488974 -0.401485 -0.466239  1.000000   -0.612715   \n",
       "vote_count    0.539964    0.849314  0.782026  0.809243 -0.612715    1.000000   \n",
       "vote_average -0.297719   -0.574979 -0.731797 -0.706442  0.524770   -0.658819   \n",
       "budget_adj   -0.148336    0.458952  0.891925  0.767164 -0.073168    0.505434   \n",
       "revenue_adj  -0.299723   -0.100506 -0.158415  0.074952  0.300077   -0.215568   \n",
       "\n",
       "              vote_average  budget_adj  revenue_adj  \n",
       "id               -0.297719   -0.148336    -0.299723  \n",
       "popularity       -0.574979    0.458952    -0.100506  \n",
       "budget           -0.731797    0.891925    -0.158415  \n",
       "revenue          -0.706442    0.767164     0.074952  \n",
       "runtime           0.524770   -0.073168     0.300077  \n",
       "vote_count       -0.658819    0.505434    -0.215568  \n",
       "vote_average      1.000000   -0.557569     0.377204  \n",
       "budget_adj       -0.557569    1.000000     0.050086  \n",
       "revenue_adj       0.377204    0.050086     1.000000  "
      ]
     },
     "execution_count": 45,
     "metadata": {},
     "output_type": "execute_result"
    }
   ],
   "source": [
    "#using correlation to determine factors influencing revenues\n",
    "df_new.corr(method='pearson') "
   ]
  },
  {
   "cell_type": "markdown",
   "metadata": {},
   "source": [
    "##### From, the above correlation answers, we can see that :\n",
    "- revenue is correlated positively with popularity and vote counts\n",
    "- revenue is negatively correlated with vote averages.\n"
   ]
  },
  {
   "cell_type": "markdown",
   "metadata": {},
   "source": [
    "In the following plots, we inspect three variables : popularity, vote counts and vote averages. We plot them against our factor of interest: revenue. "
   ]
  },
  {
   "cell_type": "markdown",
   "metadata": {},
   "source": [
    "<a id='rev_pop'></a>\n",
    "\n",
    "### Revenue vs Popularity:\n",
    "Here, we view just how popularity and revenue are related using a scatterplot."
   ]
  },
  {
   "cell_type": "code",
   "execution_count": 24,
   "metadata": {},
   "outputs": [
    {
     "data": {
      "image/png": "[encoded data removed]",
      "text/plain": [
       "<matplotlib.figure.Figure at 0x11a23c7f0>"
      ]
     },
     "metadata": {},
     "output_type": "display_data"
    }
   ],
   "source": [
    "# Creating a scatterplot of revenue and popularity over the years\n",
    "plt.scatter(x=df_new['revenue'], y=df_new['popularity'])\n",
    "plt.xlabel('Revenue')\n",
    "plt.ylabel('Popularity')\n",
    "plt.title('Revenue vs Popularity Over the Years');"
   ]
  },
  {
   "cell_type": "markdown",
   "metadata": {},
   "source": [
    "#### Observations- Revenue vs Popularity:\n",
    "- The correlation computed from function is evident in the scatterplot. \n",
    "- Popularity is proportional to revenues. \n",
    "- The few outliers that grossed medium but were rated extremely high need to be looked into."
   ]
  },
  {
   "cell_type": "markdown",
   "metadata": {},
   "source": [
    "<a id='rev_vc'></a>\n",
    "\n",
    "### Revenue vs Vote counts:\n",
    "Here, we view how vote counts and revenue are related using a scatterplot."
   ]
  },
  {
   "cell_type": "code",
   "execution_count": 22,
   "metadata": {},
   "outputs": [
    {
     "data": {
      "image/png": "[encoded data removed]",
      "text/plain": [
       "<matplotlib.figure.Figure at 0x11a0347f0>"
      ]
     },
     "metadata": {},
     "output_type": "display_data"
    }
   ],
   "source": [
    "# Creating a scatterplot of revenue and vote counts over the years\n",
    "plt.scatter(x=df_new['revenue'], y=df_new['vote_count'])\n",
    "plt.xlabel('Revenue')\n",
    "plt.ylabel('Vote Count')\n",
    "plt.title('Revenue vs Vote Count Over the Years');"
   ]
  },
  {
   "cell_type": "markdown",
   "metadata": {},
   "source": [
    "#### Observations- Revenue vs Vote Count:\n",
    "- The correlation computed from function is evident in the scatterplot. \n",
    "- Vote count is roughly proportional to revenues. \n",
    "- Even in this plot, we observe that a few sample had high counts but did not gross commensurately in revenue. \n",
    "- This plot points us to scrutinize the vote counts and type of votes if possible or any other factors influencing voting such as *genres, cast,* etc."
   ]
  },
  {
   "cell_type": "markdown",
   "metadata": {},
   "source": [
    "<a id='rev_va'></a>\n",
    "\n",
    "### Revenue vs Vote averages:\n",
    "Here, we visualize how vote averages and revenue are related using a scatterplot."
   ]
  },
  {
   "cell_type": "code",
   "execution_count": 23,
   "metadata": {},
   "outputs": [
    {
     "data": {
      "image/png": "[encoded data removed]",
      "text/plain": [
       "<matplotlib.figure.Figure at 0x11a13c4a8>"
      ]
     },
     "metadata": {},
     "output_type": "display_data"
    }
   ],
   "source": [
    "# Creating a scatterplot of revenue and vote averages over the years\n",
    "plt.scatter(x=df_new['revenue'], y=df_new['vote_average'])\n",
    "plt.xlabel('Revenue')\n",
    "plt.ylabel('Vote Averages')\n",
    "plt.title('Revenue vs Vote Averages Over the Years');"
   ]
  },
  {
   "cell_type": "markdown",
   "metadata": {},
   "source": [
    "#### Observations- Revenue vs Vote Average:\n",
    "- The correlation computed from function is evident in the scatterplot. \n",
    "- Vote averages are inversely proportional to revenues. \n",
    "- Considering this plot and the previous, we can infer voting variables as influencing revenues. This means that detailed analysis is required to assess the outliers and possibly pursue a detailed line of investigation based on vote counts and averages."
   ]
  },
  {
   "cell_type": "markdown",
   "metadata": {},
   "source": [
    "<a id='limitations'></a>\n",
    "## Limitations:\n",
    "- In the above analysis, we have worked with runtimes, popularity and revenues. \n",
    "- We restrict ourselves to only numerical values of revenues. Any variances in currencies, like dollars, rupees, Euros, etc. are not considered. \n",
    "- In case of varying currencies [which is likely since the movies range from different regions], exchange rates or conversions or some sort of normalization would need to be applied.\n",
    "- We also do not consider different revenue sources like movies ticket sales, audio rights sales, digital sales, braodcast sales, etc. and disregard the period and markets over which the revenues are collected. Older movies that are cast over television or re-released and might garner higher revenues are examples of limitations of the dataset and hence, this EDA. \n",
    "- Vote counts are taken at face value. We are not inspecting the nature of votes, good or bad or any other range of values. Also, the period or channels in which these vote counts were gathered is not considered and will be significant if varying for different movies. \n",
    "- The medium through which popularity was determined is unknown. This can impact the analysis as the limitations and bias inherent while gauging audience response will be present in the end values too. \n",
    "- This analysis assumes that the same index and methods were employed for collecting popularity factors and counting votes for all movies. In the event that it is not so, the results might not hold true. [a possibility since movies are from different countries and languages]\n",
    "- While we did not have missing values for any of the factors under consideration, we acknowledge the presence of these limitations and assumptions in our analysis."
   ]
  },
  {
   "cell_type": "markdown",
   "metadata": {},
   "source": [
    "<a id='conclusions'></a>\n",
    "## Conclusions\n",
    "\n",
    "- From our EDA, we discovered that over the years, there are *patterns to runtimes, popularity and revenues*. \n",
    "- While only tentative, we found that popular runtimes range between 106 and 107 minutes.\n",
    "- Also, ratings had maximum likelihood of being in the 0.44 to 0.62 range.\n",
    "- Revenues showed a wider range, but the most likely range was 3.7e+07 to 4.8e+07.\n",
    "- We also analyzed multiple variables. Specifically, we chose to analyze *over time [release_year], the effect of particular variables [votes and popularity] on our factor of interest [revenue]*.\n",
    "- Based on this analysis, we found that over the years, popularity and revenue show a direct relation. \n",
    "- Vote counts and revenue are related positively while vote averages are inversely related to revenues.\n",
    "- However, these relations are merely correlations and do not imply causation.\n",
    "- These lines of analysis point us to the need for further investigation, especially with regards to votes."
   ]
  },
  {
   "cell_type": "code",
   "execution_count": 46,
   "metadata": {},
   "outputs": [
    {
     "data": {
      "text/plain": [
       "0"
      ]
     },
     "execution_count": 46,
     "metadata": {},
     "output_type": "execute_result"
    }
   ],
   "source": [
    "from subprocess import call\n",
    "call(['python', '-m', 'nbconvert', 'Investigate_a_Dataset.ipynb'])"
   ]
  },
  {
   "cell_type": "code",
   "execution_count": null,
   "metadata": {
    "collapsed": true
   },
   "outputs": [],
   "source": []
  }
 ],
 "metadata": {
  "kernelspec": {
   "display_name": "Python 3",
   "language": "python",
   "name": "python3"
  },
  "language_info": {
   "codemirror_mode": {
    "name": "ipython",
    "version": 3
   },
   "file_extension": ".py",
   "mimetype": "text/x-python",
   "name": "python",
   "nbconvert_exporter": "python",
   "pygments_lexer": "ipython3",
   "version": "3.6.2"
  }
 },
 "nbformat": 4,
 "nbformat_minor": 2
}
